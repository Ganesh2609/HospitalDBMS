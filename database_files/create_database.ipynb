{
 "cells": [
  {
   "cell_type": "code",
   "execution_count": 1,
   "metadata": {},
   "outputs": [],
   "source": [
    "import mysql.connector"
   ]
  },
  {
   "cell_type": "markdown",
   "metadata": {},
   "source": [
    "# Creating database"
   ]
  },
  {
   "cell_type": "code",
   "execution_count": 2,
   "metadata": {},
   "outputs": [
    {
     "name": "stdout",
     "output_type": "stream",
     "text": [
      "Connection established\n",
      "Database created successfully\n"
     ]
    }
   ],
   "source": [
    "try:\n",
    "    conn = mysql.connector.connect(\n",
    "        host=\"localhost\",\n",
    "        user=\"root\",\n",
    "        password=\"Coc0406\"\n",
    "    )\n",
    "    print(\"Connection established\")\n",
    "    cursor = conn.cursor()\n",
    "    cursor.execute(\"CREATE DATABASE IF NOT EXISTS HospitalDBMS\")\n",
    "    conn.commit()\n",
    "    print(\"Database created successfully\")\n",
    "    cursor.execute(\"USE HospitalDBMS\")\n",
    "except mysql.connector.Error as err:\n",
    "    print(\"An error occurred:\", err)"
   ]
  },
  {
   "cell_type": "markdown",
   "metadata": {},
   "source": [
    "# Creating tables"
   ]
  },
  {
   "cell_type": "code",
   "execution_count": 3,
   "metadata": {},
   "outputs": [
    {
     "name": "stdout",
     "output_type": "stream",
     "text": [
      "Success\n"
     ]
    }
   ],
   "source": [
    "create_table1 = \"\"\"\n",
    "    CREATE TABLE Patient (\n",
    "        patient_id INT PRIMARY KEY AUTO_INCREMENT,\n",
    "        first_name VARCHAR(256),\n",
    "        last_name VARCHAR(256),\n",
    "        date_of_birth DATE,\n",
    "        gender ENUM('Male', 'Female', 'Other'),\n",
    "        address VARCHAR(512),\n",
    "        phone_number BIGINT,\n",
    "        email VARCHAR(128),\n",
    "        blood_type ENUM('A+', 'A-', 'B+', 'B-', 'AB+', 'AB-', 'O+', 'O-'),\n",
    "        emergency_contact BIGINT,\n",
    "        allergies TEXT,\n",
    "        existing_conditions TEXT\n",
    "    );\n",
    "\"\"\"\n",
    "cursor.execute(create_table1)\n",
    "conn.commit()\n",
    "\n",
    "print('Success')"
   ]
  },
  {
   "cell_type": "code",
   "execution_count": 4,
   "metadata": {},
   "outputs": [
    {
     "name": "stdout",
     "output_type": "stream",
     "text": [
      "Success\n"
     ]
    }
   ],
   "source": [
    "create_table2 = \"\"\"\n",
    "    CREATE TABLE Login (\n",
    "        patient_id INT PRIMARY KEY,\n",
    "        password VARCHAR(128),\n",
    "        FOREIGN KEY (patient_id) REFERENCES Patient(patient_id) ON DELETE CASCADE\n",
    "    );\n",
    "\"\"\"\n",
    "cursor.execute(create_table2)\n",
    "conn.commit()\n",
    "\n",
    "print('Success')"
   ]
  },
  {
   "cell_type": "code",
   "execution_count": 5,
   "metadata": {},
   "outputs": [
    {
     "name": "stdout",
     "output_type": "stream",
     "text": [
      "Success\n"
     ]
    }
   ],
   "source": [
    "create_table3 = \"\"\"\n",
    "    CREATE TABLE Doctor (\n",
    "        doctor_id INT PRIMARY KEY AUTO_INCREMENT,\n",
    "        first_name VARCHAR(256),\n",
    "        last_name VARCHAR(256),\n",
    "        specialization ENUM('general-physician', 'gynecologist', 'dermatologist', 'pediatricians', 'neurologist', 'gastroenterologist'),\n",
    "        phone_number BIGINT,\n",
    "        email VARCHAR(128),\n",
    "        available_days VARCHAR(128),\n",
    "        available_from TIME,\n",
    "        available_to TIME,\n",
    "        years_of_experience INT,\n",
    "        salary INT\n",
    "    );\n",
    "\"\"\"\n",
    "cursor.execute(create_table3)\n",
    "conn.commit()\n",
    "\n",
    "print('Success')"
   ]
  },
  {
   "cell_type": "code",
   "execution_count": 6,
   "metadata": {},
   "outputs": [
    {
     "name": "stdout",
     "output_type": "stream",
     "text": [
      "Success\n"
     ]
    }
   ],
   "source": [
    "create_table4 = \"\"\"\n",
    "    CREATE TABLE Ward (\n",
    "        ward_id INT PRIMARY KEY AUTO_INCREMENT,\n",
    "        ward_type ENUM('Public', 'Private'),\n",
    "        total_beds INT,\n",
    "        available_beds INT,\n",
    "        floor_number INT\n",
    "    );\n",
    "\"\"\"\n",
    "cursor.execute(create_table4)\n",
    "conn.commit()\n",
    "\n",
    "print('Success')"
   ]
  },
  {
   "cell_type": "code",
   "execution_count": 7,
   "metadata": {},
   "outputs": [
    {
     "name": "stdout",
     "output_type": "stream",
     "text": [
      "Success\n"
     ]
    }
   ],
   "source": [
    "create_table5 = \"\"\"\n",
    "    CREATE TABLE Nurse (\n",
    "        nurse_id INT PRIMARY KEY AUTO_INCREMENT,\n",
    "        first_name VARCHAR(256),\n",
    "        last_name VARCHAR(256),\n",
    "        shift ENUM('Morning', 'Evening'),\n",
    "        phone_number BIGINT,\n",
    "        email VARCHAR(128),\n",
    "        ward_id INT,\n",
    "        FOREIGN KEY (ward_id) REFERENCES Ward(ward_id) ON DELETE CASCADE\n",
    "    );\n",
    "\"\"\"\n",
    "cursor.execute(create_table5)\n",
    "conn.commit()\n",
    "\n",
    "print('Success')"
   ]
  },
  {
   "cell_type": "code",
   "execution_count": 8,
   "metadata": {},
   "outputs": [
    {
     "name": "stdout",
     "output_type": "stream",
     "text": [
      "Success\n"
     ]
    }
   ],
   "source": [
    "create_table6 = \"\"\"\n",
    "    CREATE TABLE Appointment (\n",
    "        appointment_id INT PRIMARY KEY AUTO_INCREMENT,\n",
    "        patient_id INT,\n",
    "        doctor_id INT,\n",
    "        appointment_date DATE,\n",
    "        appointment_time TIME,\n",
    "        appointment_reason TEXT,\n",
    "        status ENUM('Pending', 'Completed', 'Cancelled'),\n",
    "        FOREIGN KEY (patient_id) REFERENCES Patient(patient_id)  ON DELETE CASCADE,\n",
    "        FOREIGN KEY (doctor_id) REFERENCES Doctor(doctor_id) ON DELETE CASCADE\n",
    "    );\n",
    "\"\"\"\n",
    "cursor.execute(create_table6)\n",
    "conn.commit()\n",
    "\n",
    "print('Success')"
   ]
  },
  {
   "cell_type": "code",
   "execution_count": 9,
   "metadata": {},
   "outputs": [
    {
     "name": "stdout",
     "output_type": "stream",
     "text": [
      "Success\n"
     ]
    }
   ],
   "source": [
    "create_table7 = \"\"\"\n",
    "    CREATE TABLE Prescription (\n",
    "        prescription_id INT PRIMARY KEY AUTO_INCREMENT,\n",
    "        appointment_id INT,\n",
    "        medication_name TEXT,\n",
    "        dosage TEXT,\n",
    "        frequency ENUM('Daily', 'TwoDays', 'ThreeDays', 'Weekly'),\n",
    "        duration INT,\n",
    "        FOREIGN KEY (appointment_id) REFERENCES Appointment(appointment_id) ON DELETE CASCADE\n",
    "    );\n",
    "\"\"\"\n",
    "cursor.execute(create_table7)\n",
    "conn.commit()\n",
    "\n",
    "print('Success')"
   ]
  },
  {
   "cell_type": "code",
   "execution_count": 10,
   "metadata": {},
   "outputs": [
    {
     "name": "stdout",
     "output_type": "stream",
     "text": [
      "Success\n"
     ]
    }
   ],
   "source": [
    "create_table8 = \"\"\"\n",
    "    CREATE TABLE Treatment (\n",
    "        treatment_id INT PRIMARY KEY AUTO_INCREMENT,\n",
    "        appointment_id INT,\n",
    "        treatment_name TEXT,\n",
    "        start_date DATE,\n",
    "        end_date DATE,\n",
    "        FOREIGN KEY (appointment_id) REFERENCES Appointment(appointment_id) ON DELETE CASCADE\n",
    "    );\n",
    "\"\"\"\n",
    "cursor.execute(create_table8)\n",
    "conn.commit()\n",
    "\n",
    "print('Success')"
   ]
  },
  {
   "cell_type": "code",
   "execution_count": 11,
   "metadata": {},
   "outputs": [
    {
     "name": "stdout",
     "output_type": "stream",
     "text": [
      "Success\n"
     ]
    }
   ],
   "source": [
    "create_table9 = \"\"\"\n",
    "    CREATE TABLE MedicalTest (\n",
    "        test_id INT PRIMARY KEY AUTO_INCREMENT,\n",
    "        appointment_id INT,\n",
    "        test_type TEXT,\n",
    "        test_date DATE,\n",
    "        FOREIGN KEY (appointment_id) REFERENCES Appointment(appointment_id) ON DELETE CASCADE\n",
    "    );\n",
    "\"\"\"\n",
    "cursor.execute(create_table9)\n",
    "conn.commit()\n",
    "\n",
    "print('Success')"
   ]
  },
  {
   "cell_type": "code",
   "execution_count": 12,
   "metadata": {},
   "outputs": [
    {
     "name": "stdout",
     "output_type": "stream",
     "text": [
      "Success\n"
     ]
    }
   ],
   "source": [
    "create_table10 = \"\"\"\n",
    "    CREATE TABLE Bill (\n",
    "        bill_id INT PRIMARY KEY AUTO_INCREMENT,\n",
    "        appointment_id INT,\n",
    "        total_amount INT,\n",
    "        billing_date DATE,\n",
    "        payment_status ENUM('pending', 'completed') ,\n",
    "        FOREIGN KEY (appointment_id) REFERENCES Appointment(appointment_id) ON DELETE CASCADE\n",
    "    );\n",
    "\"\"\"\n",
    "cursor.execute(create_table10)\n",
    "conn.commit()\n",
    "\n",
    "print('Success')"
   ]
  },
  {
   "cell_type": "code",
   "execution_count": 13,
   "metadata": {},
   "outputs": [
    {
     "name": "stdout",
     "output_type": "stream",
     "text": [
      "Success\n"
     ]
    }
   ],
   "source": [
    "create_table11 = \"\"\"\n",
    "    CREATE TABLE Staff (\n",
    "        staff_id INT PRIMARY KEY AUTO_INCREMENT,\n",
    "        first_name VARCHAR(256),\n",
    "        last_name VARCHAR(256),\n",
    "        job_role VARCHAR(128),\n",
    "        phone_number BIGINT,\n",
    "        email VARCHAR(128),\n",
    "        salary INT\n",
    "    );\n",
    "\"\"\"\n",
    "cursor.execute(create_table11)\n",
    "conn.commit()\n",
    "\n",
    "print('Success')"
   ]
  },
  {
   "cell_type": "code",
   "execution_count": 14,
   "metadata": {},
   "outputs": [
    {
     "name": "stdout",
     "output_type": "stream",
     "text": [
      "Success\n"
     ]
    }
   ],
   "source": [
    "create_table12 = \"\"\"\n",
    "    CREATE TABLE Equipment (\n",
    "        equipment_id INT PRIMARY KEY AUTO_INCREMENT,\n",
    "        equipment_name VARCHAR(256),\n",
    "        status ENUM('Available', 'In use', 'Maintanence'),\n",
    "        purchase_date DATE,\n",
    "        warranty_till DATE,\n",
    "        last_maintanence DATE\n",
    "    );\n",
    "\"\"\"\n",
    "cursor.execute(create_table12)\n",
    "conn.commit()\n",
    "\n",
    "print('Success')"
   ]
  },
  {
   "cell_type": "code",
   "execution_count": 15,
   "metadata": {},
   "outputs": [
    {
     "name": "stdout",
     "output_type": "stream",
     "text": [
      "Success\n"
     ]
    }
   ],
   "source": [
    "create_table13 = \"\"\"\n",
    "    CREATE TABLE DoctorLogin (\n",
    "        doctor_id INT PRIMARY KEY,\n",
    "        password VARCHAR(128),\n",
    "        FOREIGN KEY (doctor_id) REFERENCES Doctor(doctor_id) ON DELETE CASCADE\n",
    "    );\n",
    "\"\"\"\n",
    "cursor.execute(create_table13)\n",
    "conn.commit()\n",
    "\n",
    "print('Success')"
   ]
  }
 ],
 "metadata": {
  "kernelspec": {
   "display_name": "TorchEnv1",
   "language": "python",
   "name": "python3"
  },
  "language_info": {
   "codemirror_mode": {
    "name": "ipython",
    "version": 3
   },
   "file_extension": ".py",
   "mimetype": "text/x-python",
   "name": "python",
   "nbconvert_exporter": "python",
   "pygments_lexer": "ipython3",
   "version": "3.12.4"
  }
 },
 "nbformat": 4,
 "nbformat_minor": 2
}
