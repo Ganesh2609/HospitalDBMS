{
 "cells": [
  {
   "cell_type": "code",
   "execution_count": 1,
   "metadata": {},
   "outputs": [],
   "source": [
    "import mysql.connector\n",
    "from datetime import date, time"
   ]
  },
  {
   "cell_type": "markdown",
   "metadata": {},
   "source": [
    "# Creating database"
   ]
  },
  {
   "cell_type": "code",
   "execution_count": 2,
   "metadata": {},
   "outputs": [
    {
     "name": "stdout",
     "output_type": "stream",
     "text": [
      "Connection established\n",
      "Database created successfully\n"
     ]
    }
   ],
   "source": [
    "try:\n",
    "    conn = mysql.connector.connect(\n",
    "        host=\"localhost\",\n",
    "        user=\"root\",\n",
    "        password=\"Coc0406\"\n",
    "    )\n",
    "    print(\"Connection established\")\n",
    "    cursor = conn.cursor()\n",
    "    cursor.execute(\"CREATE DATABASE IF NOT EXISTS HospitalDBMS\")\n",
    "    conn.commit()\n",
    "    print(\"Database created successfully\")\n",
    "    cursor.execute(\"USE HospitalDBMS\")\n",
    "except mysql.connector.Error as err:\n",
    "    print(\"An error occurred:\", err)"
   ]
  },
  {
   "cell_type": "markdown",
   "metadata": {},
   "source": [
    "# Inserting tables"
   ]
  },
  {
   "cell_type": "code",
   "execution_count": 3,
   "metadata": {},
   "outputs": [],
   "source": [
    "patients = [\n",
    "    (1, 'John', 'Doe', date(1985, 5, 15), 'Male', '123 Elm St, Springfield', 1234567890, 'john@example.com', 'A+', 9876543210, 'Peanuts', 'None'),\n",
    "    (2, 'Jane', 'Smith', date(1990,10,10), 'Female', '456 Oak St, Springfield', 2345678901, 'jane@example.com', 'O-', 8765432109, 'None', 'Diabetes'),\n",
    "    (3, 'Alex', 'Johnson', date(1995,3,20), 'Other', '789 Pine St, Springfield', 3456789012, 'alex@example.com', 'B+', 7654321098, 'Dust', 'Asthma'),\n",
    "    (4, 'Emily', 'Davis', date(1982,11,30), 'Female', '321 Maple St, Springfield', 4567890123, 'emily@example.com', 'AB-', 6543210987, 'None', 'Heart Disease'),\n",
    "    (5, 'Michael', 'Brown', date(1975,7,25), 'Male', '654 Cedar St, Springfield', 5678901234, 'michael@example.com', 'A+', 5432109876, 'None', 'High Blood Pressure'),\n",
    "]\n",
    "\n",
    "cursor.executemany(\"\"\"\n",
    "    INSERT INTO Patient (patient_id, first_name, last_name, date_of_birth, gender, address, phone_number, email, blood_type, emergency_contact, allergies, existing_conditions)\n",
    "    VALUES (%s, %s, %s, %s, %s, %s, %s, %s, %s, %s, %s, %s);\n",
    "\"\"\", patients)\n",
    "conn.commit()"
   ]
  },
  {
   "cell_type": "code",
   "execution_count": 4,
   "metadata": {},
   "outputs": [],
   "source": [
    "logins = [\n",
    "    (1, 'password123'),\n",
    "    (2, 'securepassword'),\n",
    "    (3, 'mypassword'),\n",
    "    (4, 'password!@#'),\n",
    "    (5, 'qwerty123'),\n",
    "]\n",
    "\n",
    "cursor.executemany(\"\"\"\n",
    "    INSERT INTO Login (patient_id, password)\n",
    "    VALUES (%s, %s);\n",
    "\"\"\", logins)\n",
    "conn.commit()"
   ]
  },
  {
   "cell_type": "code",
   "execution_count": 5,
   "metadata": {},
   "outputs": [],
   "source": [
    "doctors = [\n",
    "    (1, 'Alice', 'Green', 'pediatricians', 1234567890, 'alice.green@example.com', 'Monday, Wednesday, Friday', '08:00:00', '16:00:00', 10, 80000),\n",
    "    (2, 'Bob', 'White', 'pediatricians', 2345678901, 'bob.white@example.com', 'Tuesday, Thursday', '09:00:00', '17:00:00', 15, 90000),\n",
    "    (3, 'Charlie', 'Blue', 'pediatricians', 3456789012, 'charlie.blue@example.com', 'Monday, Tuesday, Wednesday', '10:00:00', '18:00:00', 12, 85000),\n",
    "    (4, 'Diana', 'Black', 'dermatologist', 4567890123, 'diana.black@example.com', 'Thursday, Friday', '11:00:00', '19:00:00', 8, 75000),\n",
    "    (5, 'Eva', 'Red', 'dermatologist', 5678901234, 'eva.red@example.com', 'Monday, Wednesday', '07:00:00', '15:00:00', 20, 95000),\n",
    "    (6, 'Frank', 'Yellow', 'dermatologist', 6789012345, 'frank.yellow@example.com', 'Tuesday, Thursday', '09:00:00', '17:00:00', 11, 87000),\n",
    "    (7, 'George', 'Brown', 'neurologist', 7890123456, 'george.brown@example.com', 'Monday, Wednesday', '07:00:00', '15:00:00', 16, 98000),\n",
    "    (8, 'Hannah', 'Pink', 'neurologist', 8901234567, 'hannah.pink@example.com', 'Tuesday, Thursday', '09:00:00', '17:00:00', 14, 92000),\n",
    "    (9, 'Ivy', 'Purple', 'neurologist', 9012345678, 'ivy.purple@example.com', 'Friday', '10:00:00', '18:00:00', 13, 88000),\n",
    "    (10, 'Jack', 'Gray', 'general-physician', 9876543210, 'jack.gray@example.com', 'Monday, Wednesday', '08:00:00', '16:00:00', 10, 85000),\n",
    "    (11, 'Karen', 'Orange', 'general-physician', 8765432109, 'karen.orange@example.com', 'Tuesday, Thursday', '09:00:00', '17:00:00', 12, 87000),\n",
    "    (12, 'Liam', 'White', 'general-physician', 7654321098, 'liam.white@example.com', 'Wednesday, Friday', '07:00:00', '15:00:00', 8, 83000),\n",
    "    (13, 'Mia', 'Black', 'gynecologist', 6543210987, 'mia.black@example.com', 'Monday, Tuesday', '08:00:00', '16:00:00', 14, 91000),\n",
    "    (14, 'Noah', 'Blue', 'gastroenterologist', 5432109876, 'noah.blue@example.com', 'Thursday, Friday', '10:00:00', '18:00:00', 18, 96000),\n",
    "    (15, 'Olivia', 'Gray', 'gynecologist', 4321098765, 'olivia.gray@example.com', 'Wednesday, Thursday', '09:00:00', '17:00:00', 16, 93000),\n",
    "    (16, 'Mia', 'Black', 'gynecologist', 6543210987, 'mia.black@example.com', 'Monday, Tuesday', '08:00:00', '16:00:00', 14, 91000),\n",
    "    (17, 'Noah', 'Blue', 'gastroenterologist', 5432109876, 'noah.blue@example.com', 'Thursday, Friday', '10:00:00', '18:00:00', 18, 96000),\n",
    "    (18, 'Olivia', 'Gray', 'gastroenterologist', 4321098765, 'olivia.gray@example.com', 'Wednesday, Thursday', '09:00:00', '17:00:00', 16, 93000),\n",
    "]\n",
    "\n",
    "cursor.executemany(\"\"\"\n",
    "    INSERT INTO Doctor (doctor_id, first_name, last_name, specialization, phone_number, email, available_days, available_from, available_to, years_of_experience, salary)\n",
    "    VALUES (%s, %s, %s, %s, %s, %s, %s, %s, %s, %s, %s);\n",
    "\"\"\", doctors)\n",
    "\n",
    "conn.commit()\n"
   ]
  },
  {
   "cell_type": "code",
   "execution_count": 6,
   "metadata": {},
   "outputs": [],
   "source": [
    "wards = [\n",
    "    (1, 'Public', 50, 30, 1),\n",
    "    (2, 'Private', 20, 15, 2),\n",
    "    (3, 'Public', 40, 25, 3),\n",
    "    (4, 'Private', 30, 20, 4),\n",
    "    (5, 'Public', 60, 35, 5),\n",
    "]\n",
    "\n",
    "cursor.executemany(\"\"\"\n",
    "    INSERT INTO Ward (ward_id, ward_type, total_beds, available_beds, floor_number)\n",
    "    VALUES (%s, %s, %s, %s, %s);\n",
    "\"\"\", wards)\n",
    "conn.commit()"
   ]
  },
  {
   "cell_type": "code",
   "execution_count": 7,
   "metadata": {},
   "outputs": [],
   "source": [
    "nurses = [\n",
    "    (1, 'Sophia', 'Williams', 'Morning', 6789012345, 'sophia@example.com', 1),\n",
    "    (2, 'James', 'Jones', 'Evening', 7890123456, 'james@example.com', 2),\n",
    "    (3, 'Olivia', 'Garcia', 'Morning', 8901234567, 'olivia@example.com', 3),\n",
    "    (4, 'William', 'Martinez', 'Evening', 9012345678, 'william@example.com', 4),\n",
    "    (5, 'Liam', 'Hernandez', 'Morning', 1234567890, 'liam@example.com', 5),\n",
    "]\n",
    "\n",
    "cursor.executemany(\"\"\"\n",
    "    INSERT INTO Nurse (nurse_id, first_name, last_name, shift, phone_number, email, ward_id)\n",
    "    VALUES (%s, %s, %s, %s, %s, %s, %s);\n",
    "\"\"\", nurses)\n",
    "conn.commit()"
   ]
  },
  {
   "cell_type": "code",
   "execution_count": 8,
   "metadata": {},
   "outputs": [],
   "source": [
    "appointments = [\n",
    "    (1, 1, 2, '2024-10-15', '09:00:00', 'Regular Checkup', 'Pending'),\n",
    "    (2, 2, 2, '2024-10-16', '10:00:00', 'Heart Check', 'Pending'),\n",
    "    (3, 3, 1, '2024-10-17', '11:00:00', 'Neurological Evaluation', 'Pending'),\n",
    "    (4, 4, 4, '2024-10-18', '12:00:00', 'Skin Examination', 'Pending'),\n",
    "    (5, 5, 4, '2024-10-19', '13:00:00', 'Bone Health Check', 'Pending'),\n",
    "]\n",
    "\n",
    "cursor.executemany(\"\"\"\n",
    "    INSERT INTO Appointment (appointment_id, patient_id, doctor_id, appointment_date, appointment_time, appointment_reason, status)\n",
    "    VALUES (%s, %s, %s, %s, %s, %s, %s);\n",
    "\"\"\", appointments)\n",
    "conn.commit()"
   ]
  },
  {
   "cell_type": "code",
   "execution_count": 9,
   "metadata": {},
   "outputs": [],
   "source": [
    "prescriptions = [\n",
    "    (1, 1, 'Amoxicillin', '500mg', 'Daily', 7),\n",
    "    (2, 2, 'Metformin', '1000mg', 'Daily', 30),\n",
    "    (3, 3, 'Albuterol', '90mcg', 'TwoDays', 14),\n",
    "    (4, 4, 'Lisinopril', '20mg', 'Daily', 60),\n",
    "    (5, 5, 'Aspirin', '81mg', 'Daily', 90),\n",
    "]\n",
    "\n",
    "cursor.executemany(\"\"\"\n",
    "    INSERT INTO Prescription (prescription_id, appointment_id, medication_name, dosage, frequency, duration)\n",
    "    VALUES (%s, %s, %s, %s, %s, %s);\n",
    "\"\"\", prescriptions)\n",
    "conn.commit()"
   ]
  },
  {
   "cell_type": "code",
   "execution_count": 10,
   "metadata": {},
   "outputs": [],
   "source": [
    "treatments = [\n",
    "    (1, 1, 'Physical Therapy', date(2024, 10, 20), date(2024, 10, 27)),\n",
    "    (2, 2, 'Medication Adjustment', date(2024, 10, 21), date(2024, 10, 28)),\n",
    "    (3, 3, 'Surgery', date(2024, 10, 22), date(2024, 10, 29)),\n",
    "    (4, 4, 'Skin Treatment', date(2024, 10, 23), date(2024, 10, 30)),\n",
    "    (5, 5, 'Bone Fracture Care', date(2024, 10, 24), date(2024, 10, 31)),\n",
    "]\n",
    "\n",
    "cursor.executemany(\"\"\"\n",
    "    INSERT INTO Treatment (treatment_id, appointment_id, treatment_name, start_date, end_date)\n",
    "    VALUES (%s, %s, %s, %s, %s);\n",
    "\"\"\", treatments)\n",
    "conn.commit()"
   ]
  },
  {
   "cell_type": "code",
   "execution_count": 11,
   "metadata": {},
   "outputs": [],
   "source": [
    "medical_tests = [\n",
    "    (1, 1, 'Blood Test', date(2024, 10, 25)),\n",
    "    (2, 2, 'X-Ray', date(2024, 10, 26)),\n",
    "    (3, 3, 'MRI', date(2024, 10, 27)),\n",
    "    (4, 4, 'CT Scan', date(2024, 10, 28)),\n",
    "    (5, 5, 'Ultrasound', date(2024, 10, 29)),\n",
    "]\n",
    "cursor.executemany(\"\"\"\n",
    "    INSERT INTO MedicalTest (test_id, appointment_id, test_type, test_date)\n",
    "    VALUES (%s, %s, %s, %s);\n",
    "\"\"\", medical_tests)\n",
    "conn.commit()"
   ]
  },
  {
   "cell_type": "code",
   "execution_count": 12,
   "metadata": {},
   "outputs": [],
   "source": [
    "bills = [\n",
    "    (1, 1, 200, date(2024, 10, 30), 'pending'),\n",
    "    (2, 2, 300, date(2024, 10, 31), 'completed'),\n",
    "    (3, 3, 250, date(2024, 11, 1), 'pending'),\n",
    "    (4, 4, 400, date(2024, 11, 2), 'pending'),\n",
    "    (5, 5, 150, date(2024, 11, 3), 'completed'),\n",
    "]\n",
    "\n",
    "cursor.executemany(\"\"\"\n",
    "    INSERT INTO Bill (bill_id, appointment_id, total_amount, billing_date, payment_status)\n",
    "    VALUES (%s, %s, %s, %s, %s);\n",
    "\"\"\", bills)\n",
    "conn.commit()"
   ]
  },
  {
   "cell_type": "code",
   "execution_count": 13,
   "metadata": {},
   "outputs": [],
   "source": [
    "staff_members = [\n",
    "    (1, 'Emma', 'Taylor', 'Receptionist', 3210987654, 'emma@example.com', 40000),\n",
    "    (2, 'Noah', 'Anderson', 'Accountant', 4321098765, 'noah@example.com', 50000),\n",
    "    (3, 'Ava', 'Thomas', 'Lab Technician', 5432109876, 'ava@example.com', 45000),\n",
    "    (4, 'Ethan', 'Jackson', 'Cleaner', 6543210987, 'ethan@example.com', 30000),\n",
    "    (5, 'Isabella', 'White', 'Pharmacist', 7654321098, 'isabella@example.com', 55000),\n",
    "]\n",
    "\n",
    "cursor.executemany(\"\"\"\n",
    "    INSERT INTO Staff (staff_id, first_name, last_name, job_role, phone_number, email, salary)\n",
    "    VALUES (%s, %s, %s, %s, %s, %s, %s);\n",
    "\"\"\", staff_members)\n",
    "conn.commit()"
   ]
  },
  {
   "cell_type": "code",
   "execution_count": 14,
   "metadata": {},
   "outputs": [],
   "source": [
    "equipment_data = [\n",
    "    (1, 'X-Ray Machine', 'Available', '2020-05-10', '2025-05-10', '2024-06-15'),\n",
    "    (2, 'MRI Scanner', 'In use', '2021-03-20', '2026-03-20', '2024-09-10'),\n",
    "    (3, 'CT Scan Machine', 'Maintanence', '2019-08-05', '2024-08-05', '2024-10-01'),\n",
    "    (4, 'Ultrasound Machine', 'Available', '2022-07-12', '2027-07-12', '2024-07-30'),\n",
    "    (5, 'Ventilator', 'In use', '2023-01-25', '2028-01-25', '2024-09-20'),\n",
    "]\n",
    "\n",
    "cursor.executemany(\"\"\"\n",
    "    INSERT INTO Equipment (equipment_id, equipment_name, status, purchase_date, warranty_till, last_maintanence)\n",
    "    VALUES (%s, %s, %s, %s, %s, %s);\n",
    "\"\"\", equipment_data)\n",
    "\n",
    "conn.commit()"
   ]
  },
  {
   "cell_type": "code",
   "execution_count": 15,
   "metadata": {},
   "outputs": [],
   "source": [
    "# Sample logins for doctor_ids 1 to 18\n",
    "logins = [\n",
    "    (1, 'password123'),\n",
    "    (2, 'securepassword'),\n",
    "    (3, 'mypassword'),\n",
    "    (4, 'password!@#'),\n",
    "    (5, 'qwerty123'),\n",
    "    (6, 'letmein123'),\n",
    "    (7, 'doctorsafe1'),\n",
    "    (8, 'pass123456'),\n",
    "    (9, 'bestdoc99'),\n",
    "    (10, 'safepassword'),\n",
    "    (11, 'doctor12345'),\n",
    "    (12, 'healinghands'),\n",
    "    (13, 'medic2020'),\n",
    "    (14, 'healthy@456'),\n",
    "    (15, 'caregiver007'),\n",
    "    (16, 'superdoc123'),\n",
    "    (17, 'medsecure99'),\n",
    "    (18, 'drpassword!'),\n",
    "]\n",
    "\n",
    "# Inserting entries into DoctorLogin\n",
    "cursor.executemany(\"\"\"\n",
    "    INSERT INTO DoctorLogin (doctor_id, password)\n",
    "    VALUES (%s, %s);\n",
    "\"\"\", logins)\n",
    "conn.commit()"
   ]
  },
  {
   "cell_type": "code",
   "execution_count": 16,
   "metadata": {},
   "outputs": [],
   "source": [
    "conn.close()"
   ]
  }
 ],
 "metadata": {
  "kernelspec": {
   "display_name": "TorchEnv1",
   "language": "python",
   "name": "python3"
  },
  "language_info": {
   "codemirror_mode": {
    "name": "ipython",
    "version": 3
   },
   "file_extension": ".py",
   "mimetype": "text/x-python",
   "name": "python",
   "nbconvert_exporter": "python",
   "pygments_lexer": "ipython3",
   "version": "3.12.4"
  }
 },
 "nbformat": 4,
 "nbformat_minor": 2
}
